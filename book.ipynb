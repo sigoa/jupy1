
import IPython.lib.display
local_files = IPython.lib.display.FileLinks(".")
display(local_files)


# http://ipython.readthedocs.io/en/stable/api/generated/IPython.display.html#module-IPython.display


# Generate a sound
import numpy as np
import IPython.display
framerate = 44100
t = np.linspace(0,5,framerate*5)
data = np.sin(2*np.pi*220*t) + np.sin(2*np.pi*224*t)
IPython.display.Audio(data,rate=framerate)

# Can also do stereo or more channels
dataleft = np.sin(2*np.pi*220*t)
dataright = np.sin(2*np.pi*224*t)
IPython.display.Audio([dataleft, dataright],rate=framerate)

IPython.display.Audio("http://www.nch.com.au/acm/8k16bitpcm.wav")  # From URL
IPython.display.Audio(url="http://www.w3schools.com/html/horse.ogg")

#Audio('/path/to/sound.wav')  # From file
#Audio(filename='/path/to/sound.ogg')

#Audio(b'RAW_WAV_DATA')  # .. From bytes
#Audio(data=b'RAW_WAV_DATA')


