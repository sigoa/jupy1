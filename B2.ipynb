{
 "cells": [
  {
   "cell_type": "raw",
   "metadata": {},
   "source": [
    "# Documented commands (type help <topic>):\n",
    "========================================\n",
    "EOF    cl         disable  interact  next    psource  rv         unt   \n",
    "a      clear      display  j         p       q        s          until \n",
    "alias  commands   down     jump      pdef    quit     source     up    \n",
    "args   condition  enable   l         pdoc    r        step       w     \n",
    "b      cont       exit     list      pfile   restart  tbreak     whatis\n",
    "break  continue   h        ll        pinfo   return   u          where \n",
    "bt     d          help     longlist  pinfo2  retval   unalias  \n",
    "c      debug      ignore   n         pp      run      undisplay\n",
    "\n",
    "Miscellaneous help topics:\n",
    "==========================\n",
    "pdb  exec\n"
   ]
  },
  {
   "cell_type": "code",
   "execution_count": 3,
   "metadata": {},
   "outputs": [
    {
     "name": "stdout",
     "output_type": "stream",
     "text": [
      "r1   130\n"
     ]
    }
   ],
   "source": [
    "def test_debug(y):\n",
    "    x = 12\n",
    "    #from IPython.core.debugger import Tracer; Tracer()() \n",
    "    from IPython.core import  debugger\n",
    "    a=debugger.Pdb()\n",
    "    xx=44\n",
    "    zz=str(\"zzz\")\n",
    "    #a.do_debug()   ###   type help for command list in debugger\n",
    "    #a.do_pinfo(zz)\n",
    "    #a.set_trace(frame=None)\n",
    "    x = x + y\n",
    " \n",
    "    for i in range(15):\n",
    "        x = x+i\n",
    " \n",
    "    return x\n",
    " \n",
    "r1=test_debug(13)\n",
    "r2=print(\"r1  \" , r1)"
   ]
  }
 ],
 "metadata": {
  "celltoolbar": "Tags",
  "kernelspec": {
   "display_name": "Python 3",
   "language": "python",
   "name": "python3"
  },
  "language_info": {
   "codemirror_mode": {
    "name": "ipython",
    "version": 3
   },
   "file_extension": ".py",
   "mimetype": "text/x-python",
   "name": "python",
   "nbconvert_exporter": "python",
   "pygments_lexer": "ipython3",
   "version": "3.5.3"
  }
 },
 "nbformat": 4,
 "nbformat_minor": 1
}
